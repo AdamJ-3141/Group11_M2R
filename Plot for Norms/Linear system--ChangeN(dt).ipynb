{
 "cells": [
  {
   "cell_type": "code",
   "execution_count": 1,
   "id": "aefd5012",
   "metadata": {
    "pycharm": {
     "name": "#%%\n"
    }
   },
   "outputs": [],
   "source": [
    "import numpy as np\n",
    "import matplotlib.pyplot as plt\n",
    "from numpy import sin, cos, exp\n",
    "from numpy.linalg import inv\n",
    "np.random.seed(3011)\n",
    "\n",
    "from scipy.integrate import odeint\n",
    "from mpl_toolkits.mplot3d import Axes3D"
   ]
  },
  {
   "cell_type": "markdown",
   "id": "fdec0dba",
   "metadata": {
    "pycharm": {
     "name": "#%% md\n"
    }
   },
   "source": [
    "Fix D_r, W_in, B_in；\n",
    "Fix [0, 2pi]；\n",
    "change dt and N；\n",
    "dt * N = 2pi"
   ]
  },
  {
   "cell_type": "code",
   "execution_count": 2,
   "id": "5bbb7cde",
   "metadata": {
    "pycharm": {
     "name": "#%%\n"
    }
   },
   "outputs": [],
   "source": [
    "#fixing parameter D_r, W, B, T\n",
    "D_r = 1000\n",
    "\n",
    "def pickw(w=0.005, D_r = D_r, D = 2):\n",
    "    W_in = np.random.uniform(-w, w, (D_r, D))\n",
    "    return W_in\n",
    "\n",
    "def pickb(b=4, D_r = D_r):\n",
    "    B_in = np.random.uniform(-b, b, (D_r,1))\n",
    "    return B_in\n",
    "\n",
    "W = pickw(w=0.005)\n",
    "B = pickb(b=4)\n",
    "\n",
    "t0 = 0\n",
    "t1 = 2*np.pi"
   ]
  },
  {
   "cell_type": "code",
   "execution_count": 3,
   "id": "f7af192d",
   "metadata": {
    "pycharm": {
     "name": "#%%\n"
    }
   },
   "outputs": [],
   "source": [
    "#Algorithm\n",
    "def find_approximation(system: callable, t0: float, t1: float,\n",
    "                       N=100, D_r=D_r, w=W, b=B, beta=1E-5):\n",
    "    U: np.ndarray = system(np.linspace(t0, t1, N+1))\n",
    "    D = U.shape[0]\n",
    "    U_o = U[:, 1:]\n",
    "    U_i = U[:, :-1]\n",
    "    W_in = w\n",
    "    b_in = b\n",
    "    Phi = np.tanh(W_in @ U_i + b_in)\n",
    "    W_LR = (U_o @ Phi.T @ inv(Phi @ Phi.T + beta * np.identity(D_r)))\n",
    "\n",
    "    U_hat = np.atleast_2d(U[:, 0]).T\n",
    "    for _ in range(N):\n",
    "        u_n = U_hat[:, -1]\n",
    "        phi = np.tanh(np.atleast_2d(W_in @ u_n).T + b_in)\n",
    "        u_np1 = W_LR @ phi\n",
    "        U_hat = np.concatenate((U_hat, u_np1), axis=1)\n",
    "        \n",
    "    U_pred = np.atleast_2d(U_hat[:, -1]).T\n",
    "    for _ in range(N):\n",
    "        u_n = U_pred[:, -1]\n",
    "        phi = np.tanh(np.atleast_2d(W_in @ u_n).T + b_in)\n",
    "        u_np1 = W_LR @ phi\n",
    "        U_pred = np.concatenate((U_pred, u_np1), axis=1)\n",
    "    #return U, U_hat\n",
    "    return U, U_hat, U_pred"
   ]
  },
  {
   "cell_type": "code",
   "execution_count": 4,
   "id": "8194fad0",
   "metadata": {
    "pycharm": {
     "name": "#%%\n"
    }
   },
   "outputs": [],
   "source": [
    "#linear system: circle\n",
    "def linear_system(t, c1=1, c2=1):\n",
    "\n",
    "    \"\"\"\n",
    "    Return values for the system\n",
    "\n",
    "    dx/dt = (0   1) (x)\n",
    "    dy/dt   (-1  0) (y)\n",
    "    \"\"\"\n",
    "    x = c1 * sin(t) - c2 * cos(t)\n",
    "    y = c1 * cos(t) + c2 * sin(t)\n",
    "    return np.array([x, y])"
   ]
  },
  {
   "cell_type": "code",
   "execution_count": 5,
   "id": "400a79a5",
   "metadata": {
    "pycharm": {
     "name": "#%%\n"
    }
   },
   "outputs": [
    {
     "name": "stdout",
     "output_type": "stream",
     "text": [
      "0.0007333664744990856\n"
     ]
    },
    {
     "ename": "NameError",
     "evalue": "name 'x' is not defined",
     "output_type": "error",
     "traceback": [
      "\u001b[1;31m---------------------------------------------------------------------------\u001b[0m",
      "\u001b[1;31mNameError\u001b[0m                                 Traceback (most recent call last)",
      "\u001b[1;32m~\\AppData\\Local\\Temp/ipykernel_8536/1522693774.py\u001b[0m in \u001b[0;36m<module>\u001b[1;34m\u001b[0m\n\u001b[0;32m      8\u001b[0m \u001b[0mq\u001b[0m\u001b[1;33m=\u001b[0m\u001b[0mfind_norm2\u001b[0m\u001b[1;33m(\u001b[0m\u001b[0mlinear_system\u001b[0m\u001b[1;33m,\u001b[0m\u001b[1;36m800\u001b[0m\u001b[1;33m)\u001b[0m\u001b[1;33m\u001b[0m\u001b[1;33m\u001b[0m\u001b[0m\n\u001b[0;32m      9\u001b[0m \u001b[0mprint\u001b[0m\u001b[1;33m(\u001b[0m\u001b[0mq\u001b[0m\u001b[1;33m)\u001b[0m\u001b[1;33m\u001b[0m\u001b[1;33m\u001b[0m\u001b[0m\n\u001b[1;32m---> 10\u001b[1;33m \u001b[0mprint\u001b[0m\u001b[1;33m(\u001b[0m\u001b[0mx\u001b[0m\u001b[1;33m,\u001b[0m\u001b[0my\u001b[0m\u001b[1;33m,\u001b[0m\u001b[0mz\u001b[0m\u001b[1;33m)\u001b[0m\u001b[1;33m\u001b[0m\u001b[1;33m\u001b[0m\u001b[0m\n\u001b[0m\u001b[0;32m     11\u001b[0m \u001b[0mprint\u001b[0m\u001b[1;33m(\u001b[0m\u001b[0mnp\u001b[0m\u001b[1;33m.\u001b[0m\u001b[0mlog\u001b[0m\u001b[1;33m(\u001b[0m\u001b[0my\u001b[0m\u001b[1;33m/\u001b[0m\u001b[0mx\u001b[0m\u001b[1;33m)\u001b[0m\u001b[1;33m)\u001b[0m\u001b[1;33m\u001b[0m\u001b[1;33m\u001b[0m\u001b[0m\n\u001b[0;32m     12\u001b[0m \u001b[0mprint\u001b[0m\u001b[1;33m(\u001b[0m\u001b[0mnp\u001b[0m\u001b[1;33m.\u001b[0m\u001b[0mlog\u001b[0m\u001b[1;33m(\u001b[0m\u001b[0mx\u001b[0m\u001b[1;33m/\u001b[0m\u001b[0mz\u001b[0m\u001b[1;33m)\u001b[0m\u001b[1;33m)\u001b[0m\u001b[1;33m\u001b[0m\u001b[1;33m\u001b[0m\u001b[0m\n",
      "\u001b[1;31mNameError\u001b[0m: name 'x' is not defined"
     ]
    }
   ],
   "source": [
    "#function to find 2-norm\n",
    "def find_norm2(system:callable, N_0, D_r0=D_r, w_0=W, b_0=B):\n",
    "    U, U_hat, U_pred = find_approximation(system, t0, t1, N=N_0, D_r=D_r0, w = w_0, b = b_0)\n",
    "    norm2 = 0\n",
    "    for n in range(N_0):\n",
    "        norm2 += (np.linalg.norm(U[:,n]-U_hat[:,n]) / np.linalg.norm(U[:,n]))**2\n",
    "    return np.sqrt(norm2) / N_0\n",
    "find_norm2(linear_system,800)"
   ]
  },
  {
   "cell_type": "code",
   "execution_count": 6,
   "id": "7277d059",
   "metadata": {
    "pycharm": {
     "name": "#%%\n"
    }
   },
   "outputs": [
    {
     "data": {
      "text/plain": [
       "0.009169779120336567"
      ]
     },
     "execution_count": 6,
     "metadata": {},
     "output_type": "execute_result"
    }
   ],
   "source": [
    "#function to find infinite norm\n",
    "def find_norminf(system:callable, N_0, D_r0=D_r, w_0=W, b_0=B):\n",
    "    U, U_hat, U_pred = find_approximation(system, t0, t1, N=N_0, D_r=D_r0, w = w_0, b = b_0)\n",
    "    norm = []\n",
    "    for n in range(N_0):\n",
    "        norm.append(np.linalg.norm(U[:,n]-U_hat[:,n]) / np.linalg.norm(U[:,n]))\n",
    "    return max(norm)\n",
    "find_norminf(linear_system,100)"
   ]
  },
  {
   "cell_type": "code",
   "execution_count": 86,
   "id": "c5790e57",
   "metadata": {
    "pycharm": {
     "name": "#%%\n"
    }
   },
   "outputs": [
    {
     "name": "stdout",
     "output_type": "stream",
     "text": [
      "[0.0004955716842252019, 0.0004576865647128096, 0.0004853396779452741]\n"
     ]
    },
    {
     "data": {
      "image/png": "[encoded data removed]",
      "text/plain": [
       "<Figure size 432x288 with 1 Axes>"
      ]
     },
     "metadata": {
      "needs_background": "light"
     },
     "output_type": "display_data"
    }
   ],
   "source": [
    "#plot for 2-norm\n",
    "N = np.array([100,200,400])\n",
    "#change N will give different plots\n",
    "\n",
    "norm2 = []\n",
    "for n in N:\n",
    "    norm2.append(find_norm2(linear_system, n))\n",
    "    \n",
    "#i2 = np.argmin(norm2)\n",
    "\n",
    "plt.plot(N, norm2, marker='.')\n",
    "#plt.plot(N[i2], norm2[i2], marker='o', label='minimum')\n",
    "#plt.legend()\n",
    "plt.xlabel(\"Change in N\")\n",
    "plt.ylabel(\"2-norm\")\n",
    "plt.title(\"2-norm / N\")\n",
    "print(norm2)\n"
   ]
  },
  {
   "cell_type": "code",
   "execution_count": 8,
   "id": "1786099b",
   "metadata": {
    "pycharm": {
     "name": "#%%\n"
    }
   },
   "outputs": [
    {
     "data": {
      "text/plain": [
       "Text(0.5, 1.0, 'infinite norm / N')"
      ]
     },
     "execution_count": 8,
     "metadata": {},
     "output_type": "execute_result"
    },
    {
     "data": {
      "image/png": "[encoded data removed]",
      "text/plain": [
       "<Figure size 432x288 with 1 Axes>"
      ]
     },
     "metadata": {
      "needs_background": "light"
     },
     "output_type": "display_data"
    }
   ],
   "source": [
    "#plot for inf norm\n",
    "N = np.arange(100, 5000, 100)\n",
    "dt = t1 / N\n",
    "norminf = []\n",
    "for n in N:\n",
    "    norminf.append(find_norminf(linear_system, n))\n",
    "\n",
    "i3 = np.argmin(norminf)\n",
    "\n",
    "plt.plot(N, norminf)\n",
    "plt.plot(N[i3], norminf[i3], marker='o', label='minimum')\n",
    "plt.legend()\n",
    "plt.xlabel(\"Change in N\")\n",
    "plt.ylabel(\"infinite norm\")\n",
    "plt.title(\"infinite norm / N\")"
   ]
  },
  {
   "cell_type": "code",
   "execution_count": 9,
   "id": "d78675ac",
   "metadata": {
    "pycharm": {
     "name": "#%%\n"
    }
   },
   "outputs": [
    {
     "data": {
      "text/plain": [
       "Text(0.5, 1.0, '2-norm / N with 10 random W&B')"
      ]
     },
     "execution_count": 9,
     "metadata": {},
     "output_type": "execute_result"
    },
    {
     "data": {
      "image/png": "[encoded data removed]",
      "text/plain": [
       "<Figure size 432x288 with 1 Axes>"
      ]
     },
     "metadata": {
      "needs_background": "light"
     },
     "output_type": "display_data"
    }
   ],
   "source": [
    "#plot for 2-norm for 10 different W/B realisations\n",
    "N = np.arange(100, 3000, 100)\n",
    "dt = t1 / N\n",
    "it = 10\n",
    "mean2 = np.zeros(len(N))\n",
    "for w in range(it):\n",
    "    norm2 = []\n",
    "    W_i = pickw(w=0.005)\n",
    "    B_i = pickb(b=4)\n",
    "    for n in N:\n",
    "        norm2.append(find_norm2(linear_system, n, w_0 = W_i, b_0 = B_i))\n",
    "    mean2 = mean2 + np.array(norm2)\n",
    "mean2 = mean2/it\n",
    "\n",
    "i4 = np.argmin(mean2)\n",
    "\n",
    "plt.plot(N, mean2)\n",
    "plt.plot(N[i4], mean2[i4], marker='o', label='minimum')\n",
    "plt.legend()\n",
    "plt.xlabel(\"Change in N\")\n",
    "plt.ylabel(\"2-norm\")\n",
    "plt.title(\"2-norm / N with 10 random W&B\")"
   ]
  },
  {
   "cell_type": "code",
   "execution_count": 10,
   "id": "3fc71684",
   "metadata": {
    "pycharm": {
     "name": "#%%\n"
    }
   },
   "outputs": [
    {
     "data": {
      "text/plain": [
       "Text(0.5, 1.0, 'max(ϵ) / N with 10 random W&B')"
      ]
     },
     "execution_count": 10,
     "metadata": {},
     "output_type": "execute_result"
    },
    {
     "data": {
      "image/png": "[encoded data removed]",
      "text/plain": [
       "<Figure size 432x288 with 1 Axes>"
      ]
     },
     "metadata": {
      "needs_background": "light"
     },
     "output_type": "display_data"
    }
   ],
   "source": [
    "#plot for infinite norm for 10 different W/B realisations\n",
    "N = np.arange(100, 3000, 100)\n",
    "dt = t1 / N\n",
    "it = 10\n",
    "meaninf = np.zeros(len(N))\n",
    "for w in range(it):\n",
    "    norminf = []\n",
    "    W_i = pickw(w=0.005)\n",
    "    B_i = pickb(b=4)\n",
    "    for n in N:\n",
    "        norminf.append(find_norminf(linear_system, n, w_0 = W_i, b_0 = B_i))\n",
    "    meaninf = meaninf + np.array(norminf)\n",
    "meaninf = meaninf/it\n",
    "\n",
    "i5 = np.argmin(meaninf)\n",
    "\n",
    "plt.plot(N, meaninf)\n",
    "plt.plot(N[i5], meaninf[i5], marker='o', label='minimum')\n",
    "plt.legend()\n",
    "plt.xlabel(\"Change in N\")\n",
    "plt.ylabel(\"infinite norm\")\n",
    "plt.title(\"max(ϵ) / N with 10 random W&B\")"
   ]
  },
  {
   "cell_type": "code",
   "execution_count": 52,
   "id": "6127f33c",
   "metadata": {
    "pycharm": {
     "name": "#%%\n"
    }
   },
   "outputs": [],
   "source": [
    "def find_approximation(system: callable, t0: float, t1: float,\n",
    "                       N=100, D_r=100, w=0.005, b=4, beta=100):\n",
    "    U: np.ndarray = system(np.linspace(t0, t1, N+1))\n",
    "    D = U.shape[0]\n",
    "    U_o = U[:, 1:]\n",
    "    U_i = U[:, :-1]\n",
    "    W_in = np.random.uniform(-w, w, (D_r, D))\n",
    "    b_in = np.random.uniform(-b, b, (D_r,1))\n",
    "    Phi = np.tanh(W_in @ U_i + b_in)\n",
    "    W_LR = (U_o @ Phi.T @ inv(Phi @ Phi.T + beta * np.identity(D_r)))\n",
    "\n",
    "    U_hat = np.atleast_2d(U[:, 0]).T\n",
    "    for _ in range(N):\n",
    "        u_n = U_hat[:, -1]\n",
    "        phi = np.tanh(np.atleast_2d(W_in @ u_n).T + b_in)\n",
    "        u_np1 = W_LR @ phi\n",
    "        U_hat = np.concatenate((U_hat, u_np1), axis=1)\n",
    "        \n",
    "    U_pred = np.atleast_2d(U_hat[:, -1]).T\n",
    "    for _ in range(N):\n",
    "        u_n = U_pred[:, -1]\n",
    "        phi = np.tanh(np.atleast_2d(W_in @ u_n).T + b_in)\n",
    "        u_np1 = W_LR @ phi\n",
    "        U_pred = np.concatenate((U_pred, u_np1), axis=1)\n",
    "    #return U, U_hat\n",
    "    return U, U_hat, U_pred\n",
    "\n",
    "def find_norm2(system:callable, N_0, D_r0):\n",
    "    U, U_hat, U_pred = find_approximation(system, t0, t1, N=N_0, D_r=D_r0)\n",
    "    norm2 = 0\n",
    "    for n in range(N_0):\n",
    "        norm2 += (np.linalg.norm(U[:,n]-U_hat[:,n]) / np.linalg.norm(U[:,n]))**2\n",
    "    return np.sqrt(norm2) / N_0"
   ]
  },
  {
   "cell_type": "code",
   "execution_count": 53,
   "id": "979f2a2d",
   "metadata": {},
   "outputs": [],
   "source": [
    "#Lorenz system\n",
    "def get_lorenz_vals(dt):\n",
    "    def lorenz1(xyz, t, s=10, r=28, b=8/3):\n",
    "        x,y,z = xyz\n",
    "        dx = s*(y - x)\n",
    "        dy = r*x - y - x*z\n",
    "        dz = x*y - b*z\n",
    "        return np.array([dx,dy,dz])\n",
    "    \n",
    "    from scipy.integrate import odeint\n",
    "    sol = odeint(lorenz1, [0,2,0], dt)\n",
    "    xs,ys,zs = sol.T\n",
    "\n",
    "    return sol.T"
   ]
  },
  {
   "cell_type": "code",
   "execution_count": 54,
   "id": "469fddf5",
   "metadata": {},
   "outputs": [
    {
     "name": "stderr",
     "output_type": "stream",
     "text": [
      "No handles with labels found to put in legend.\n"
     ]
    },
    {
     "name": "stdout",
     "output_type": "stream",
     "text": [
      "-0.6550929451766354\n"
     ]
    },
    {
     "data": {
      "image/png": "[encoded data removed]",
      "text/plain": [
       "<Figure size 432x288 with 1 Axes>"
      ]
     },
     "metadata": {
      "needs_background": "light"
     },
     "output_type": "display_data"
    }
   ],
   "source": [
    "#plot for 2-norm\n",
    "N = np.arange(4,13,1)\n",
    "\n",
    "norm2 = []\n",
    "for n in N:\n",
    "    norm2.append(np.log2(find_norm2(get_lorenz_vals, 2**n, 2**n)))\n",
    "\n",
    "\n",
    "#i2 = np.argmin(norm2)\n",
    "\n",
    "plt.plot(N, norm2, marker=\".\")\n",
    "plt.plot(N, -N/2-2)\n",
    "#plt.plot(N[i2], norm2[i2], marker='o', label='minimum')\n",
    "plt.legend()\n",
    "plt.xlabel(\"Change in N\")\n",
    "plt.ylabel(\"2-norm\")\n",
    "plt.title(\"2-norm / N\")\n",
    "print((norm2[-1]-norm2[-2])/(N[-1]-N[-2]))"
   ]
  },
  {
   "cell_type": "code",
   "execution_count": 70,
   "id": "99b3446e",
   "metadata": {},
   "outputs": [
    {
     "data": {
      "text/plain": [
       "0.06753448538365969"
      ]
     },
     "execution_count": 70,
     "metadata": {},
     "output_type": "execute_result"
    }
   ],
   "source": [
    "np.log(norm2[1]/norm2[0])/np.log(2)"
   ]
  },
  {
   "cell_type": "code",
   "execution_count": 71,
   "id": "b895581b",
   "metadata": {},
   "outputs": [
    {
     "data": {
      "text/plain": [
       "0.21420237006445872"
      ]
     },
     "execution_count": 71,
     "metadata": {},
     "output_type": "execute_result"
    }
   ],
   "source": [
    "np.log(norm2[2]/norm2[1])/np.log(2)"
   ]
  },
  {
   "cell_type": "code",
   "execution_count": 88,
   "id": "cd0ff693",
   "metadata": {},
   "outputs": [
    {
     "data": {
      "text/plain": [
       "array([4, 5, 6, 7, 8, 9])"
      ]
     },
     "execution_count": 88,
     "metadata": {},
     "output_type": "execute_result"
    }
   ],
   "source": [
    "N = np.arange(4,10,1)\n",
    "N"
   ]
  },
  {
   "cell_type": "code",
   "execution_count": null,
   "id": "efd7e477",
   "metadata": {},
   "outputs": [],
   "source": []
  }
 ],
 "metadata": {
  "kernelspec": {
   "display_name": "Python 3 (ipykernel)",
   "language": "python",
   "name": "python3"
  },
  "language_info": {
   "codemirror_mode": {
    "name": "ipython",
    "version": 3
   },
   "file_extension": ".py",
   "mimetype": "text/x-python",
   "name": "python",
   "nbconvert_exporter": "python",
   "pygments_lexer": "ipython3",
   "version": "3.9.7"
  }
 },
 "nbformat": 4,
 "nbformat_minor": 5
}