{
 "cells": [
  {
   "cell_type": "code",
   "execution_count": 1,
   "id": "9b7eb511",
   "metadata": {},
   "outputs": [],
   "source": [
    "import numpy as np\n",
    "import matplotlib.pyplot as plt\n",
    "from numpy import sin, cos, exp\n",
    "from numpy.linalg import inv\n",
    "np.random.seed(8008)\n",
    "\n",
    "from scipy.integrate import odeint\n",
    "from IPython.display import Latex\n",
    "from tqdm import trange"
   ]
  },
  {
   "cell_type": "code",
   "execution_count": 2,
   "id": "3bfc99fc",
   "metadata": {},
   "outputs": [],
   "source": [
    "#Fix parameters and initial conditions\n",
    "N = 4000\n",
    "dt = 0.02\n",
    "iterate = 10\n",
    "t0 = 0\n",
    "t1 = N*dt\n",
    "init=[1,1,1]"
   ]
  },
  {
   "cell_type": "code",
   "execution_count": 3,
   "id": "f8952682",
   "metadata": {},
   "outputs": [],
   "source": [
    "#Lorenz system\n",
    "def get_lorenz_vals(dt, ic):\n",
    "    def lorenz1(xyz, t, s=10, r=28, b=8/3):\n",
    "        x,y,z = xyz\n",
    "        dx = s*(y - x)\n",
    "        dy = r*x - y - x*z\n",
    "        dz = x*y - b*z\n",
    "        return np.array([dx,dy,dz])\n",
    "    \n",
    "    from scipy.integrate import odeint\n",
    "    sol = odeint(lorenz1, ic, dt)\n",
    "    xs,ys,zs = sol.T\n",
    "\n",
    "    return sol.T"
   ]
  },
  {
   "cell_type": "code",
   "execution_count": 4,
   "id": "d21a05da",
   "metadata": {},
   "outputs": [],
   "source": [
    "#Implement the Algorithm\n",
    "def find_approximation(system: callable, t0: float, t1: float,\n",
    "                       N=N, D_r=300, w=0.005, b=4, beta=1e-7): \n",
    "    ic = init #random initial condition from 0 to 5 every time\n",
    "    U: np.ndarray = system(np.linspace(t0, t1, N+1), ic)\n",
    "    D = U.shape[0]\n",
    "    U_o = U[:, 1:]\n",
    "    U_i = U[:, :-1]\n",
    "    W_in = np.random.uniform(-w, w, (D_r, D))\n",
    "    b_in = np.random.uniform(-b, b, (D_r,1))\n",
    "    Phi = (1/np.sqrt(D_r))*np.tanh(W_in @ U_i + b_in)\n",
    "    W_LR = (U_o @ Phi.T @ inv(Phi @ Phi.T + beta * np.identity(D_r)))\n",
    "\n",
    "    U_hat = np.atleast_2d(U[:, 0]).T\n",
    "    for _ in range(N):\n",
    "        u_n = U_hat[:, -1]\n",
    "        phi = (1/np.sqrt(D_r))*np.tanh(np.atleast_2d(W_in @ u_n).T + b_in)\n",
    "        u_np1 = W_LR @ phi\n",
    "        U_hat = np.concatenate((U_hat, u_np1), axis=1)\n",
    "        \n",
    "    #U_pred = np.atleast_2d(U_hat[:, -1]).T # Further approximation starting from u_(n+1), will not be used in this experiment\n",
    "    #for _ in range(N):\n",
    "        #u_n = U_pred[:, -1]\n",
    "        #phi = np.tanh(np.atleast_2d(W_in @ u_n).T + b_in)\n",
    "        #u_np1 = W_LR @ phi\n",
    "        #U_pred = np.concatenate((U_pred, u_np1), axis=1)\n",
    "    #return U, U_hat, U_pred\n",
    "    return U, U_hat#, U_pred"
   ]
  },
  {
   "cell_type": "code",
   "execution_count": 8,
   "id": "1e74436f",
   "metadata": {},
   "outputs": [
    {
     "data": {
      "text/plain": [
       "7.079999999999937"
      ]
     },
     "execution_count": 8,
     "metadata": {},
     "output_type": "execute_result"
    }
   ],
   "source": [
    "def find_tf(system, N, D_r, t0 = t0, t1 = t1):\n",
    "    U, U_hat = find_approximation(system, t0, t1, N=N, D_r=D_r)\n",
    "    error = 0\n",
    "    tf = 0\n",
    "    n=0\n",
    "    while error <= 0.05:\n",
    "        error = (np.linalg.norm(U[:,n]-U_hat[:,n]) / np.linalg.norm(U[:,n]))**2\n",
    "        tf += dt\n",
    "        n += 1\n",
    "    return tf\n",
    "\n",
    "find_tf(get_lorenz_vals, N, 10000)"
   ]
  },
  {
   "cell_type": "code",
   "execution_count": 6,
   "id": "12a24780",
   "metadata": {},
   "outputs": [
    {
     "name": "stderr",
     "output_type": "stream",
     "text": [
      "100%|██████████| 10/10 [14:44<00:00, 88.49s/it]\n"
     ]
    },
    {
     "data": {
      "image/png": "[encoded data removed]",
      "text/plain": [
       "<Figure size 432x288 with 1 Axes>"
      ]
     },
     "metadata": {
      "needs_background": "light"
     },
     "output_type": "display_data"
    }
   ],
   "source": [
    "logdr = np.arange(2,4.5,0.25)\n",
    "dr = 10**(logdr)\n",
    "\n",
    "tf = np.zeros(len(dr))\n",
    "for i in trange(iterate):\n",
    "    tf0 = []\n",
    "    for d in dr:   \n",
    "        tf0.append(find_tf(get_lorenz_vals, N, int(round(d))))\n",
    "    tf = tf + np.array(tf0)\n",
    "tf = tf/iterate\n",
    "\n",
    "plt.plot(logdr, tf, marker='x')\n",
    "plt.xlabel('$log_{10}D_r$')\n",
    "plt.ylabel('$τ_f$')\n",
    "plt.savefig(\"D_r_zeronoise.jpg\", dpi=150, bbox_inches='tight')"
   ]
  },
  {
   "cell_type": "code",
   "execution_count": 4,
   "id": "20a236e0",
   "metadata": {},
   "outputs": [
    {
     "data": {
      "text/plain": [
       "31623"
      ]
     },
     "execution_count": 4,
     "metadata": {},
     "output_type": "execute_result"
    }
   ],
   "source": [
    "d = round(10**4.5)\n",
    "d"
   ]
  },
  {
   "cell_type": "code",
   "execution_count": null,
   "id": "7344658c",
   "metadata": {},
   "outputs": [],
   "source": [
    "d = round(10**4.75)\n",
    "tf0 = 0\n",
    "for i in range(iterate):\n",
    "    tf0 += find_tf(get_lorenz_vals, N, d)\n",
    "print(tf0)"
   ]
  },
  {
   "cell_type": "code",
   "execution_count": 9,
   "id": "9de4af37",
   "metadata": {},
   "outputs": [
    {
     "data": {
      "text/latex": [
       "$τ_f$"
      ],
      "text/plain": [
       "<IPython.core.display.Latex object>"
      ]
     },
     "execution_count": 9,
     "metadata": {},
     "output_type": "execute_result"
    }
   ],
   "source": [
    "from IPython.display import Latex\n",
    "Latex(rf'$D_r$')\n",
    "Latex(rf'$τ_f$')"
   ]
  },
  {
   "cell_type": "code",
   "execution_count": 9,
   "id": "79c29606",
   "metadata": {},
   "outputs": [
    {
     "data": {
      "text/plain": [
       "array([  100.        ,   177.827941  ,   316.22776602,   562.34132519,\n",
       "        1000.        ,  1778.27941004,  3162.27766017,  5623.4132519 ,\n",
       "       10000.        , 17782.79410039])"
      ]
     },
     "execution_count": 9,
     "metadata": {},
     "output_type": "execute_result"
    }
   ],
   "source": [
    "dr\n"
   ]
  },
  {
   "cell_type": "code",
   "execution_count": null,
   "id": "4f30b79e",
   "metadata": {},
   "outputs": [],
   "source": []
  }
 ],
 "metadata": {
  "kernelspec": {
   "display_name": "Python 3 (ipykernel)",
   "language": "python",
   "name": "python3"
  },
  "language_info": {
   "codemirror_mode": {
    "name": "ipython",
    "version": 3
   },
   "file_extension": ".py",
   "mimetype": "text/x-python",
   "name": "python",
   "nbconvert_exporter": "python",
   "pygments_lexer": "ipython3",
   "version": "3.9.7"
  }
 },
 "nbformat": 4,
 "nbformat_minor": 5
}
