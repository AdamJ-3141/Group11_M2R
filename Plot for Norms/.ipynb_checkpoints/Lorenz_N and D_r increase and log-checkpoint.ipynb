{
 "cells": [
  {
   "cell_type": "code",
   "execution_count": 1,
   "id": "e7b5818a",
   "metadata": {},
   "outputs": [],
   "source": [
    "import numpy as np\n",
    "import matplotlib.pyplot as plt\n",
    "from numpy import sin, cos, exp\n",
    "from numpy.linalg import inv\n",
    "np.random.seed(3011)\n",
    "\n",
    "from scipy.integrate import odeint\n",
    "from mpl_toolkits.mplot3d import Axes3D"
   ]
  },
  {
   "cell_type": "code",
   "execution_count": 7,
   "id": "cc0283d6",
   "metadata": {},
   "outputs": [],
   "source": [
    "t0 = 0\n",
    "t1 = 10\n",
    "#Algorithm: change beta here\n",
    "def find_approximation(system: callable, t0: float, t1: float,\n",
    "                       N=100, D_r=100, w=0.005, b=4, beta=100):\n",
    "    U: np.ndarray = system(np.linspace(t0, t1, N+1))\n",
    "    D = U.shape[0]\n",
    "    U_o = U[:, 1:]\n",
    "    U_i = U[:, :-1]\n",
    "    W_in = np.random.uniform(-w, w, (D_r, D))\n",
    "    b_in = np.random.uniform(-b, b, (D_r,1))\n",
    "    Phi = np.tanh(W_in @ U_i + b_in)\n",
    "    W_LR = (U_o @ Phi.T @ inv(Phi @ Phi.T + beta * np.identity(D_r)))\n",
    "\n",
    "    U_hat = np.atleast_2d(U[:, 0]).T\n",
    "    for _ in range(N):\n",
    "        u_n = U_hat[:, -1]\n",
    "        phi = np.tanh(np.atleast_2d(W_in @ u_n).T + b_in)\n",
    "        u_np1 = W_LR @ phi\n",
    "        U_hat = np.concatenate((U_hat, u_np1), axis=1)\n",
    "        \n",
    "    U_pred = np.atleast_2d(U_hat[:, -1]).T\n",
    "    for _ in range(N):\n",
    "        u_n = U_pred[:, -1]\n",
    "        phi = np.tanh(np.atleast_2d(W_in @ u_n).T + b_in)\n",
    "        u_np1 = W_LR @ phi\n",
    "        U_pred = np.concatenate((U_pred, u_np1), axis=1)\n",
    "    #return U, U_hat\n",
    "    return U, U_hat, U_pred\n",
    "\n",
    "def find_norm2(system:callable, N_0, D_r0):\n",
    "    U, U_hat, U_pred = find_approximation(system, t0, t1, N=N_0, D_r=D_r0) \n",
    "    norm2 = 0\n",
    "    for n in range(N_0):\n",
    "        norm2 += (np.linalg.norm(U[:,n]-U_hat[:,n]) / np.linalg.norm(U[:,n]))**2\n",
    "    return np.sqrt(norm2) / N_0"
   ]
  },
  {
   "cell_type": "code",
   "execution_count": 8,
   "id": "b92def24",
   "metadata": {},
   "outputs": [],
   "source": [
    "#Lorenz system\n",
    "def get_lorenz_vals(dt):\n",
    "    def lorenz1(xyz, t, s=10, r=28, b=8/3):\n",
    "        x,y,z = xyz\n",
    "        dx = s*(y - x)\n",
    "        dy = r*x - y - x*z\n",
    "        dz = x*y - b*z\n",
    "        return np.array([dx,dy,dz])\n",
    "    \n",
    "    from scipy.integrate import odeint\n",
    "    sol = odeint(lorenz1, [0,2,0], dt)\n",
    "    xs,ys,zs = sol.T\n",
    "\n",
    "    return sol.T"
   ]
  },
  {
   "cell_type": "code",
   "execution_count": 9,
   "id": "b9d6de4b",
   "metadata": {},
   "outputs": [
    {
     "name": "stdout",
     "output_type": "stream",
     "text": [
      "-0.6121640483654405\n"
     ]
    },
    {
     "data": {
      "image/png": "[encoded data removed]",
      "text/plain": [
       "<Figure size 432x288 with 1 Axes>"
      ]
     },
     "metadata": {
      "needs_background": "light"
     },
     "output_type": "display_data"
    }
   ],
   "source": [
    "#plot for 2-norm\n",
    "N = np.arange(4,13,1)\n",
    "\n",
    "norm2 = []\n",
    "for n in N:\n",
    "    norm2.append(np.log2(find_norm2(get_lorenz_vals, 2**n, 2**n)))\n",
    "\n",
    "\n",
    "#i2 = np.argmin(norm2)\n",
    "\n",
    "plt.plot(N, norm2, marker=\".\")\n",
    "plt.plot(N, -N/2-2)\n",
    "#plt.plot(N[i2], norm2[i2], marker='o', label='minimum')\n",
    "#plt.legend()\n",
    "plt.xlabel(\"Change in N\")\n",
    "plt.ylabel(\"2-norm\")\n",
    "plt.title(\"2-norm / N\")\n",
    "print((norm2[-1]-norm2[-2])/(N[-1]-N[-2])) # the slope of the last two points"
   ]
  },
  {
   "cell_type": "code",
   "execution_count": null,
   "id": "4d8148f8",
   "metadata": {},
   "outputs": [],
   "source": []
  }
 ],
 "metadata": {
  "kernelspec": {
   "display_name": "Python 3 (ipykernel)",
   "language": "python",
   "name": "python3"
  },
  "language_info": {
   "codemirror_mode": {
    "name": "ipython",
    "version": 3
   },
   "file_extension": ".py",
   "mimetype": "text/x-python",
   "name": "python",
   "nbconvert_exporter": "python",
   "pygments_lexer": "ipython3",
   "version": "3.9.7"
  }
 },
 "nbformat": 4,
 "nbformat_minor": 5
}
