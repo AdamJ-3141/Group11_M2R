{
 "cells": [
  {
   "cell_type": "code",
   "execution_count": 1,
   "id": "9b7eb511",
   "metadata": {},
   "outputs": [],
   "source": [
    "import numpy as np\n",
    "import matplotlib.pyplot as plt\n",
    "from numpy import sin, cos, exp\n",
    "from numpy.linalg import inv\n",
    "np.random.seed(8008)\n",
    "\n",
    "from scipy.integrate import odeint"
   ]
  },
  {
   "cell_type": "code",
   "execution_count": 12,
   "id": "3bfc99fc",
   "metadata": {},
   "outputs": [],
   "source": [
    "#Fix parameters and initial conditions\n",
    "N = 4000\n",
    "dt = 0.02\n",
    "iterate = 10\n",
    "t0 = 0\n",
    "t1 = N*dt\n",
    "init = [5,5,5]"
   ]
  },
  {
   "cell_type": "code",
   "execution_count": 13,
   "id": "f8952682",
   "metadata": {},
   "outputs": [],
   "source": [
    "#Lorenz system\n",
    "def get_lorenz_vals(dt, ic):\n",
    "    def lorenz1(xyz, t, s=10, r=28, b=8/3):\n",
    "        x,y,z = xyz\n",
    "        dx = s*(y - x)\n",
    "        dy = r*x - y - x*z\n",
    "        dz = x*y - b*z\n",
    "        return np.array([dx,dy,dz])\n",
    "    \n",
    "    from scipy.integrate import odeint\n",
    "    sol = odeint(lorenz1, ic, dt)\n",
    "    xs,ys,zs = sol.T\n",
    "\n",
    "    return sol.T"
   ]
  },
  {
   "cell_type": "code",
   "execution_count": 14,
   "id": "d21a05da",
   "metadata": {},
   "outputs": [],
   "source": [
    "#Implement the Algorithm\n",
    "def find_approximation(system: callable, t0: float, t1: float,\n",
    "                       N=N, D_r=100, w=0.005, b=4, beta=1e-5): \n",
    "    ic = init #initial condition = [5,5,5]\n",
    "    U: np.ndarray = system(np.linspace(t0, t1, N+1), ic)\n",
    "    D = U.shape[0]\n",
    "    U_o = U[:, 1:]\n",
    "    U_i = U[:, :-1]\n",
    "    W_in = np.random.uniform(-w, w, (D_r, D))\n",
    "    b_in = np.random.uniform(-b, b, (D_r,1))\n",
    "    Phi = np.tanh(W_in @ U_i + b_in)\n",
    "    W_LR = (U_o @ Phi.T @ inv(Phi @ Phi.T + beta * np.identity(D_r)))\n",
    "\n",
    "    U_hat = np.atleast_2d(U[:, 0]).T\n",
    "    for _ in range(N):\n",
    "        u_n = U_hat[:, -1]\n",
    "        phi = np.tanh(np.atleast_2d(W_in @ u_n).T + b_in)\n",
    "        u_np1 = W_LR @ phi\n",
    "        U_hat = np.concatenate((U_hat, u_np1), axis=1)\n",
    "        \n",
    "    U_pred = np.atleast_2d(U_hat[:, -1]).T # Further approximation starting from u_(n+1), will not be used in this experiment\n",
    "    #for _ in range(N):\n",
    "        #u_n = U_pred[:, -1]\n",
    "        #phi = np.tanh(np.atleast_2d(W_in @ u_n).T + b_in)\n",
    "        #u_np1 = W_LR @ phi\n",
    "        #U_pred = np.concatenate((U_pred, u_np1), axis=1)\n",
    "    #return U, U_hat, U_pred\n",
    "    return U, U_hat, U_pred"
   ]
  },
  {
   "cell_type": "code",
   "execution_count": 16,
   "id": "1e74436f",
   "metadata": {},
   "outputs": [
    {
     "data": {
      "text/plain": [
       "0.04"
      ]
     },
     "execution_count": 16,
     "metadata": {},
     "output_type": "execute_result"
    }
   ],
   "source": [
    "def find_tf(system, N, D_r, β=1e-5, t0 = t0, t1 = t1):\n",
    "    U, U_hat, U_pred = find_approximation(system, t0, t1, N=N, D_r=D_r, beta = β)\n",
    "    error = 0\n",
    "    tf = 0\n",
    "    n=0\n",
    "    while error <= 0.05:\n",
    "        error = (np.linalg.norm(U[:,n]-U_hat[:,n]) / np.linalg.norm(U[:,n]))**2\n",
    "        tf += dt\n",
    "        n += 1\n",
    "    return tf\n",
    "\n",
    "find_tf(get_lorenz_vals, N, 1000, β=0.0000000001)"
   ]
  },
  {
   "cell_type": "code",
   "execution_count": 18,
   "id": "12a24780",
   "metadata": {},
   "outputs": [
    {
     "ename": "MemoryError",
     "evalue": "Unable to allocate 74.5 GiB for an array with shape (100000, 100000) and data type float64",
     "output_type": "error",
     "traceback": [
      "\u001b[1;31m---------------------------------------------------------------------------\u001b[0m",
      "\u001b[1;31mMemoryError\u001b[0m                               Traceback (most recent call last)",
      "\u001b[1;32m~\\AppData\\Local\\Temp/ipykernel_30384/964934889.py\u001b[0m in \u001b[0;36m<module>\u001b[1;34m\u001b[0m\n\u001b[0;32m      6\u001b[0m     \u001b[0mtf0\u001b[0m \u001b[1;33m=\u001b[0m \u001b[1;33m[\u001b[0m\u001b[1;33m]\u001b[0m\u001b[1;33m\u001b[0m\u001b[1;33m\u001b[0m\u001b[0m\n\u001b[0;32m      7\u001b[0m     \u001b[1;32mfor\u001b[0m \u001b[0md\u001b[0m \u001b[1;32min\u001b[0m \u001b[0mdr\u001b[0m\u001b[1;33m:\u001b[0m\u001b[1;33m\u001b[0m\u001b[1;33m\u001b[0m\u001b[0m\n\u001b[1;32m----> 8\u001b[1;33m         \u001b[0mtf0\u001b[0m\u001b[1;33m.\u001b[0m\u001b[0mappend\u001b[0m\u001b[1;33m(\u001b[0m\u001b[0mfind_tf\u001b[0m\u001b[1;33m(\u001b[0m\u001b[0mget_lorenz_vals\u001b[0m\u001b[1;33m,\u001b[0m \u001b[0mN\u001b[0m\u001b[1;33m,\u001b[0m \u001b[0md\u001b[0m\u001b[1;33m)\u001b[0m\u001b[1;33m)\u001b[0m\u001b[1;33m\u001b[0m\u001b[1;33m\u001b[0m\u001b[0m\n\u001b[0m\u001b[0;32m      9\u001b[0m     \u001b[0mtf\u001b[0m \u001b[1;33m=\u001b[0m \u001b[0mtf\u001b[0m \u001b[1;33m+\u001b[0m \u001b[0mnp\u001b[0m\u001b[1;33m.\u001b[0m\u001b[0marray\u001b[0m\u001b[1;33m(\u001b[0m\u001b[0mtf0\u001b[0m\u001b[1;33m)\u001b[0m\u001b[1;33m\u001b[0m\u001b[1;33m\u001b[0m\u001b[0m\n\u001b[0;32m     10\u001b[0m \u001b[0mtf\u001b[0m \u001b[1;33m=\u001b[0m \u001b[0mtf\u001b[0m\u001b[1;33m/\u001b[0m\u001b[0miterate\u001b[0m\u001b[1;33m\u001b[0m\u001b[1;33m\u001b[0m\u001b[0m\n",
      "\u001b[1;32m~\\AppData\\Local\\Temp/ipykernel_30384/3710930597.py\u001b[0m in \u001b[0;36mfind_tf\u001b[1;34m(system, N, D_r, β, t0, t1)\u001b[0m\n\u001b[0;32m      1\u001b[0m \u001b[1;32mdef\u001b[0m \u001b[0mfind_tf\u001b[0m\u001b[1;33m(\u001b[0m\u001b[0msystem\u001b[0m\u001b[1;33m,\u001b[0m \u001b[0mN\u001b[0m\u001b[1;33m,\u001b[0m \u001b[0mD_r\u001b[0m\u001b[1;33m,\u001b[0m \u001b[0mβ\u001b[0m\u001b[1;33m=\u001b[0m\u001b[1;36m1e-5\u001b[0m\u001b[1;33m,\u001b[0m \u001b[0mt0\u001b[0m \u001b[1;33m=\u001b[0m \u001b[0mt0\u001b[0m\u001b[1;33m,\u001b[0m \u001b[0mt1\u001b[0m \u001b[1;33m=\u001b[0m \u001b[0mt1\u001b[0m\u001b[1;33m)\u001b[0m\u001b[1;33m:\u001b[0m\u001b[1;33m\u001b[0m\u001b[1;33m\u001b[0m\u001b[0m\n\u001b[1;32m----> 2\u001b[1;33m     \u001b[0mU\u001b[0m\u001b[1;33m,\u001b[0m \u001b[0mU_hat\u001b[0m\u001b[1;33m,\u001b[0m \u001b[0mU_pred\u001b[0m \u001b[1;33m=\u001b[0m \u001b[0mfind_approximation\u001b[0m\u001b[1;33m(\u001b[0m\u001b[0msystem\u001b[0m\u001b[1;33m,\u001b[0m \u001b[0mt0\u001b[0m\u001b[1;33m,\u001b[0m \u001b[0mt1\u001b[0m\u001b[1;33m,\u001b[0m \u001b[0mN\u001b[0m\u001b[1;33m=\u001b[0m\u001b[0mN\u001b[0m\u001b[1;33m,\u001b[0m \u001b[0mD_r\u001b[0m\u001b[1;33m=\u001b[0m\u001b[0mD_r\u001b[0m\u001b[1;33m,\u001b[0m \u001b[0mbeta\u001b[0m \u001b[1;33m=\u001b[0m \u001b[0mβ\u001b[0m\u001b[1;33m)\u001b[0m\u001b[1;33m\u001b[0m\u001b[1;33m\u001b[0m\u001b[0m\n\u001b[0m\u001b[0;32m      3\u001b[0m     \u001b[0merror\u001b[0m \u001b[1;33m=\u001b[0m \u001b[1;36m0\u001b[0m\u001b[1;33m\u001b[0m\u001b[1;33m\u001b[0m\u001b[0m\n\u001b[0;32m      4\u001b[0m     \u001b[0mtf\u001b[0m \u001b[1;33m=\u001b[0m \u001b[1;36m0\u001b[0m\u001b[1;33m\u001b[0m\u001b[1;33m\u001b[0m\u001b[0m\n\u001b[0;32m      5\u001b[0m     \u001b[0mn\u001b[0m\u001b[1;33m=\u001b[0m\u001b[1;36m0\u001b[0m\u001b[1;33m\u001b[0m\u001b[1;33m\u001b[0m\u001b[0m\n",
      "\u001b[1;32m~\\AppData\\Local\\Temp/ipykernel_30384/1753289847.py\u001b[0m in \u001b[0;36mfind_approximation\u001b[1;34m(system, t0, t1, N, D_r, w, b, beta)\u001b[0m\n\u001b[0;32m     10\u001b[0m     \u001b[0mb_in\u001b[0m \u001b[1;33m=\u001b[0m \u001b[0mnp\u001b[0m\u001b[1;33m.\u001b[0m\u001b[0mrandom\u001b[0m\u001b[1;33m.\u001b[0m\u001b[0muniform\u001b[0m\u001b[1;33m(\u001b[0m\u001b[1;33m-\u001b[0m\u001b[0mb\u001b[0m\u001b[1;33m,\u001b[0m \u001b[0mb\u001b[0m\u001b[1;33m,\u001b[0m \u001b[1;33m(\u001b[0m\u001b[0mD_r\u001b[0m\u001b[1;33m,\u001b[0m\u001b[1;36m1\u001b[0m\u001b[1;33m)\u001b[0m\u001b[1;33m)\u001b[0m\u001b[1;33m\u001b[0m\u001b[1;33m\u001b[0m\u001b[0m\n\u001b[0;32m     11\u001b[0m     \u001b[0mPhi\u001b[0m \u001b[1;33m=\u001b[0m \u001b[0mnp\u001b[0m\u001b[1;33m.\u001b[0m\u001b[0mtanh\u001b[0m\u001b[1;33m(\u001b[0m\u001b[0mW_in\u001b[0m \u001b[1;33m@\u001b[0m \u001b[0mU_i\u001b[0m \u001b[1;33m+\u001b[0m \u001b[0mb_in\u001b[0m\u001b[1;33m)\u001b[0m\u001b[1;33m\u001b[0m\u001b[1;33m\u001b[0m\u001b[0m\n\u001b[1;32m---> 12\u001b[1;33m     \u001b[0mW_LR\u001b[0m \u001b[1;33m=\u001b[0m \u001b[1;33m(\u001b[0m\u001b[0mU_o\u001b[0m \u001b[1;33m@\u001b[0m \u001b[0mPhi\u001b[0m\u001b[1;33m.\u001b[0m\u001b[0mT\u001b[0m \u001b[1;33m@\u001b[0m \u001b[0minv\u001b[0m\u001b[1;33m(\u001b[0m\u001b[0mPhi\u001b[0m \u001b[1;33m@\u001b[0m \u001b[0mPhi\u001b[0m\u001b[1;33m.\u001b[0m\u001b[0mT\u001b[0m \u001b[1;33m+\u001b[0m \u001b[0mbeta\u001b[0m \u001b[1;33m*\u001b[0m \u001b[0mnp\u001b[0m\u001b[1;33m.\u001b[0m\u001b[0midentity\u001b[0m\u001b[1;33m(\u001b[0m\u001b[0mD_r\u001b[0m\u001b[1;33m)\u001b[0m\u001b[1;33m)\u001b[0m\u001b[1;33m)\u001b[0m\u001b[1;33m\u001b[0m\u001b[1;33m\u001b[0m\u001b[0m\n\u001b[0m\u001b[0;32m     13\u001b[0m \u001b[1;33m\u001b[0m\u001b[0m\n\u001b[0;32m     14\u001b[0m     \u001b[0mU_hat\u001b[0m \u001b[1;33m=\u001b[0m \u001b[0mnp\u001b[0m\u001b[1;33m.\u001b[0m\u001b[0matleast_2d\u001b[0m\u001b[1;33m(\u001b[0m\u001b[0mU\u001b[0m\u001b[1;33m[\u001b[0m\u001b[1;33m:\u001b[0m\u001b[1;33m,\u001b[0m \u001b[1;36m0\u001b[0m\u001b[1;33m]\u001b[0m\u001b[1;33m)\u001b[0m\u001b[1;33m.\u001b[0m\u001b[0mT\u001b[0m\u001b[1;33m\u001b[0m\u001b[1;33m\u001b[0m\u001b[0m\n",
      "\u001b[1;31mMemoryError\u001b[0m: Unable to allocate 74.5 GiB for an array with shape (100000, 100000) and data type float64"
     ]
    }
   ],
   "source": [
    "logdr = np.arange(2,8,1)\n",
    "dr = 10**(logdr)\n",
    "\n",
    "tf = np.zeros(len(dr))\n",
    "for i in range(iterate):\n",
    "    tf0 = []\n",
    "    for d in dr:\n",
    "        tf0.append(find_tf(get_lorenz_vals, N, d))\n",
    "    tf = tf + np.array(tf0)\n",
    "tf = tf/iterate\n",
    "\n",
    "plt.plot(logdr, tf)"
   ]
  },
  {
   "cell_type": "code",
   "execution_count": 19,
   "id": "20a236e0",
   "metadata": {},
   "outputs": [
    {
     "data": {
      "text/plain": [
       "array([     100,     1000,    10000,   100000,  1000000, 10000000],\n",
       "      dtype=int32)"
      ]
     },
     "execution_count": 19,
     "metadata": {},
     "output_type": "execute_result"
    }
   ],
   "source": [
    "dr"
   ]
  },
  {
   "cell_type": "code",
   "execution_count": null,
   "id": "7344658c",
   "metadata": {},
   "outputs": [],
   "source": []
  }
 ],
 "metadata": {
  "kernelspec": {
   "display_name": "Python 3 (ipykernel)",
   "language": "python",
   "name": "python3"
  },
  "language_info": {
   "codemirror_mode": {
    "name": "ipython",
    "version": 3
   },
   "file_extension": ".py",
   "mimetype": "text/x-python",
   "name": "python",
   "nbconvert_exporter": "python",
   "pygments_lexer": "ipython3",
   "version": "3.9.7"
  }
 },
 "nbformat": 4,
 "nbformat_minor": 5
}
