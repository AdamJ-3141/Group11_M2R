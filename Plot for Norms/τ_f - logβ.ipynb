{
 "cells": [
  {
   "cell_type": "code",
   "execution_count": 1,
   "id": "4b3e8c24",
   "metadata": {},
   "outputs": [],
   "source": [
    "import numpy as np\n",
    "import matplotlib.pyplot as plt\n",
    "from numpy import sin, cos, exp\n",
    "from numpy.linalg import inv\n",
    "np.random.seed(8008)\n",
    "import time\n",
    "from tqdm import tqdm, trange\n",
    "\n",
    "from scipy.integrate import odeint\n",
    "from IPython.display import Latex"
   ]
  },
  {
   "cell_type": "code",
   "execution_count": 2,
   "id": "9de263e8",
   "metadata": {},
   "outputs": [],
   "source": [
    "#Fix parameters\n",
    "D_r = 500 #500\n",
    "N = 4000  #2000\n",
    "dt = 0.02\n",
    "iterate = 10\n",
    "t0 = 0\n",
    "t1 = N*dt"
   ]
  },
  {
   "cell_type": "code",
   "execution_count": 3,
   "id": "72397cb8",
   "metadata": {},
   "outputs": [],
   "source": [
    "#Lorenz system\n",
    "def get_lorenz_vals(dt, ic):\n",
    "    def lorenz1(xyz, t, s=10, r=28, b=8/3):\n",
    "        x,y,z = xyz\n",
    "        dx = s*(y - x)\n",
    "        dy = r*x - y - x*z\n",
    "        dz = x*y - b*z\n",
    "        return np.array([dx,dy,dz])\n",
    "    \n",
    "    from scipy.integrate import odeint\n",
    "    sol = odeint(lorenz1, ic, dt)\n",
    "    xs,ys,zs = sol.T\n",
    "\n",
    "    return sol.T"
   ]
  },
  {
   "cell_type": "code",
   "execution_count": 4,
   "id": "0275aacd",
   "metadata": {},
   "outputs": [],
   "source": [
    "#Implement the Algorithm\n",
    "def find_approximation(system: callable, t0: float, t1: float,\n",
    "                       N=N, D_r=D_r, w=0.005, b=4, beta=1e-5): \n",
    "    ic = np.random.uniform(0, 5, (1,3))[0] #random initial condition from 0 to 5 every time\n",
    "    U: np.ndarray = system(np.linspace(t0, t1, N+1), ic)\n",
    "    D = U.shape[0]\n",
    "    U_o = U[:, 1:]\n",
    "    U_i = U[:, :-1]\n",
    "    W_in = np.random.uniform(-w, w, (D_r, D))\n",
    "    b_in = np.random.uniform(-b, b, (D_r,1))\n",
    "    Phi = (1/np.sqrt(D_r))*np.tanh(W_in @ U_i + b_in)\n",
    "    W_LR = (U_o @ Phi.T @ inv(Phi @ Phi.T + beta * np.identity(D_r)))\n",
    "\n",
    "    U_hat = np.atleast_2d(U[:, 0]).T\n",
    "    for _ in range(N):\n",
    "        u_n = U_hat[:, -1]\n",
    "        phi = (1/np.sqrt(D_r))*np.tanh(np.atleast_2d(W_in @ u_n).T + b_in)\n",
    "        u_np1 = W_LR @ phi\n",
    "        U_hat = np.concatenate((U_hat, u_np1), axis=1)\n",
    "        \n",
    "    #U_pred = np.atleast_2d(U_hat[:, -1]).T # Further approximation starting from u_(n+1), will not be used in this experiment\n",
    "    #for _ in range(N):\n",
    "        #u_n = U_pred[:, -1]\n",
    "        #phi = np.tanh(np.atleast_2d(W_in @ u_n).T + b_in)\n",
    "        #u_np1 = W_LR @ phi\n",
    "        #U_pred = np.concatenate((U_pred, u_np1), axis=1)\n",
    "    #return U, U_hat, U_pred\n",
    "    return U, U_hat#, U_pred"
   ]
  },
  {
   "cell_type": "code",
   "execution_count": 5,
   "id": "a54e2582",
   "metadata": {},
   "outputs": [
    {
     "data": {
      "text/plain": [
       "5.1799999999999775"
      ]
     },
     "execution_count": 5,
     "metadata": {},
     "output_type": "execute_result"
    }
   ],
   "source": [
    "def find_tf(system, N, D_r, β, t0 = t0, t1 = t1):\n",
    "    U, U_hat = find_approximation(system, t0, t1, N=N, D_r=D_r, beta = β)\n",
    "    error = 0\n",
    "    tf = 0\n",
    "    n=0\n",
    "    while error <= 0.05:\n",
    "        error = (np.linalg.norm(U[:,n]-U_hat[:,n]) / np.linalg.norm(U[:,n]))**2\n",
    "        tf += dt\n",
    "        n += 1\n",
    "    return tf\n",
    "\n",
    "find_tf(get_lorenz_vals, N, D_r, 0.0000001)"
   ]
  },
  {
   "cell_type": "code",
   "execution_count": 6,
   "id": "3292c3d1",
   "metadata": {},
   "outputs": [],
   "source": [
    "# For the case with noise\n",
    "def find_approx_noise(system: callable, t0: float, t1: float,\n",
    "                       N=N, D_r=D_r, w=0.005, b=4, beta=0.1):\n",
    "    ic = np.random.uniform(0, 5, (1,3))[0]\n",
    "    U: np.ndarray = system(np.linspace(t0, t1, N+1),ic)\n",
    "    U = U + 0.2*np.random.normal(0, 1, np.shape(U)) # Noise in uniform distribution (-1,1) * 0.2\n",
    "    D = U.shape[0]\n",
    "    U_o = U[:, 1:]\n",
    "    U_i = U[:, :-1]\n",
    "    W_in = np.random.uniform(-w, w, (D_r, D))\n",
    "    b_in = np.random.uniform(-b, b, (D_r,1))\n",
    "    Phi = (1/np.sqrt(D_r))*np.tanh(W_in @ U_i + b_in)\n",
    "    W_LR = (U_o @ Phi.T @ inv(Phi @ Phi.T + beta * np.identity(D_r)))\n",
    "\n",
    "    U_hat = np.atleast_2d(U[:, 0]).T\n",
    "    for _ in range(N):\n",
    "        u_n = U_hat[:, -1]\n",
    "        phi = (1/np.sqrt(D_r))*np.tanh(np.atleast_2d(W_in @ u_n).T + b_in)\n",
    "        u_np1 = W_LR @ phi\n",
    "        U_hat = np.concatenate((U_hat, u_np1), axis=1)\n",
    "        \n",
    "    #U_pred = np.atleast_2d(U_hat[:, -1]).T\n",
    "    #for _ in range(N):\n",
    "        #u_n = U_pred[:, -1]\n",
    "        #phi = np.tanh(np.atleast_2d(W_in @ u_n).T + b_in)\n",
    "        #u_np1 = W_LR @ phi\n",
    "        #U_pred = np.concatenate((U_pred, u_np1), axis=1)\n",
    "\n",
    "    return U, U_hat#, U_pred\n",
    "\n",
    "def find_tfnoise(system, N, D_r, β, t0 = t0, t1 = t1):\n",
    "    U, U_hat = find_approx_noise(system, t0, t1, N=N, D_r=D_r, beta = β)\n",
    "    error = 0\n",
    "    tf = 0\n",
    "    n=0\n",
    "    while error <= 0.05:\n",
    "        error = (np.linalg.norm(U[:,n]-U_hat[:,n]) / np.linalg.norm(U[:,n]))**2\n",
    "        tf += dt\n",
    "        n += 1\n",
    "    return tf"
   ]
  },
  {
   "cell_type": "code",
   "execution_count": null,
   "id": "a41284e3",
   "metadata": {},
   "outputs": [],
   "source": [
    "#small test for zero-noise case\n",
    "β=np.array([1e-3,1e-4,1e-8,1e-9])\n",
    "logβ = np.log10(β)\n",
    "\n",
    "tf = np.zeros(len(logβ))\n",
    "for i in trange(iterate):\n",
    "    tf0 = []\n",
    "    for b in β:\n",
    "        tf0.append(find_tf(get_lorenz_vals, N, D_r, b))\n",
    "    tf = tf + np.array(tf0)\n",
    "tf = tf/iterate\n",
    "\n",
    "plt.plot(logβ, tf)\n",
    "plt.xlabel(\"$log_{10}β$\")\n",
    "plt.ylabel('$τ_f$')\n",
    "plt.title(\"τ_f - logβ\")\n",
    "plt.savefig(\"test.jpg\", dpi=150, bbox_inches='tight')"
   ]
  },
  {
   "cell_type": "code",
   "execution_count": 7,
   "id": "2d51bf6d",
   "metadata": {},
   "outputs": [
    {
     "name": "stderr",
     "output_type": "stream",
     "text": [
      "100%|██████████| 10/10 [02:27<00:00, 14.71s/it]\n"
     ]
    },
    {
     "data": {
      "image/png": "[encoded data removed]",
      "text/plain": [
       "<Figure size 432x288 with 1 Axes>"
      ]
     },
     "metadata": {
      "needs_background": "light"
     },
     "output_type": "display_data"
    }
   ],
   "source": [
    "#Zero-noise and noise cases together\n",
    "logβ = np.arange(-10,-0.5,0.25)\n",
    "β=10**(logβ)\n",
    "\n",
    "tf = np.zeros(len(β))\n",
    "tfn = np.zeros(len(β))\n",
    "for i in trange(iterate):\n",
    "    tf0 = []\n",
    "    tfn0 = []\n",
    "    for b in β:\n",
    "        tf0.append(find_tf(get_lorenz_vals, N, D_r, b))\n",
    "        tfn0.append(find_tfnoise(get_lorenz_vals, N, D_r, b))\n",
    "    tf = tf + np.array(tf0)\n",
    "    tfn = tfn + np.array(tfn0)\n",
    "tf = tf/iterate\n",
    "tfn = tfn / iterate\n",
    "\n",
    "plt.plot(logβ, tf, marker='x',label=\"Without noise\")\n",
    "plt.plot(logβ, tfn, marker='.',label=\"With noise\")\n",
    "plt.xlabel('$log_{10}β$')\n",
    "plt.ylabel('$τ_f$')\n",
    "plt.legend()\n",
    "plt.savefig(\"test.jpg\", dpi=150, bbox_inches='tight')"
   ]
  },
  {
   "cell_type": "code",
   "execution_count": null,
   "id": "72e58bff",
   "metadata": {},
   "outputs": [],
   "source": [
    "#noise case\n",
    "β2=np.array([1e-3,1e-4,1e-5,1e-6,1e-7,1e-8,1e-9])\n",
    "logβ2 = np.log10(β2)\n",
    "\n",
    "tf2 = np.zeros(len(logβ2))\n",
    "for i in range(iterate):\n",
    "    tf0 = []\n",
    "    for b in β2:\n",
    "        tf0.append(find_tfnoise(get_lorenz_vals, N, D_r, b))\n",
    "    tf2 = tf2 + np.array(tf0)\n",
    "tf2 = tf2/iterate\n",
    "\n",
    "plt.plot(logβ2, tf2, marker='x')"
   ]
  },
  {
   "cell_type": "code",
   "execution_count": null,
   "id": "fda400b0",
   "metadata": {},
   "outputs": [],
   "source": [
    "type(Latex(r'$log_{10}\\beta$'))"
   ]
  },
  {
   "cell_type": "code",
   "execution_count": null,
   "id": "cedac669",
   "metadata": {},
   "outputs": [],
   "source": [
    "Latex(r'$\\tau_f$')"
   ]
  },
  {
   "cell_type": "code",
   "execution_count": null,
   "id": "c20ff7ed",
   "metadata": {},
   "outputs": [],
   "source": []
  }
 ],
 "metadata": {
  "kernelspec": {
   "display_name": "Python 3 (ipykernel)",
   "language": "python",
   "name": "python3"
  },
  "language_info": {
   "codemirror_mode": {
    "name": "ipython",
    "version": 3
   },
   "file_extension": ".py",
   "mimetype": "text/x-python",
   "name": "python",
   "nbconvert_exporter": "python",
   "pygments_lexer": "ipython3",
   "version": "3.9.7"
  }
 },
 "nbformat": 4,
 "nbformat_minor": 5
}
