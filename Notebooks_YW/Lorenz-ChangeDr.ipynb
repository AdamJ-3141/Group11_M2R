{
 "cells": [
  {
   "cell_type": "code",
   "execution_count": 1,
   "id": "aefb701d",
   "metadata": {
    "pycharm": {
     "name": "#%%\n"
    }
   },
   "outputs": [],
   "source": [
    "import numpy as np\n",
    "import matplotlib.pyplot as plt\n",
    "from numpy import sin, cos, exp\n",
    "from numpy.linalg import inv\n",
    "np.random.seed(8008)\n",
    "\n",
    "from scipy.integrate import odeint\n",
    "from mpl_toolkits.mplot3d import Axes3D"
   ]
  },
  {
   "cell_type": "markdown",
   "id": "98f0374d",
   "metadata": {
    "pycharm": {
     "name": "#%% md\n"
    }
   },
   "source": [
    "Fix N and dt; Fix [0, T]; change D_r.\n",
    "\n",
    "W_in and B_in is dependent from D_r."
   ]
  },
  {
   "cell_type": "code",
   "execution_count": 2,
   "id": "5fce405a",
   "metadata": {
    "pycharm": {
     "name": "#%%\n"
    }
   },
   "outputs": [],
   "source": [
    "#Set parameters\n",
    "t0 = 0\n",
    "t1 = 10\n",
    "\n",
    "N = 2000\n",
    "dt = t1 / N\n",
    "\n",
    "w = 0.005\n",
    "b = 4"
   ]
  },
  {
   "cell_type": "code",
   "execution_count": 3,
   "id": "f25a2041",
   "metadata": {
    "pycharm": {
     "name": "#%%\n"
    }
   },
   "outputs": [],
   "source": [
    "#Algorithm\n",
    "def find_approximation(system: callable, t0: float, t1: float,\n",
    "                       N=N, D_r=50, w=w, b=b, beta=1E-5):\n",
    "    U: np.ndarray = system(np.linspace(t0, t1, N+1))\n",
    "    D = U.shape[0]\n",
    "    U_o = U[:, 1:]\n",
    "    U_i = U[:, :-1]\n",
    "    W_in = w * (2 * np.random.random((D_r, D)) - 1)\n",
    "    b_in = b * (2 * np.random.random((D_r, 1)) - 1)\n",
    "    Phi = np.tanh(W_in @ U_i + b_in)\n",
    "    W_LR = (U_o @ Phi.T @ inv(Phi @ Phi.T + beta * np.identity(D_r)))\n",
    "\n",
    "    U_hat = np.atleast_2d(U[:, 0]).T\n",
    "    for _ in range(N):\n",
    "        u_n = U_hat[:, -1]\n",
    "        phi = np.tanh(np.atleast_2d(W_in @ u_n).T + b_in)\n",
    "        u_np1 = W_LR @ phi\n",
    "        U_hat = np.concatenate((U_hat, u_np1), axis=1)\n",
    "        \n",
    "    U_pred = np.atleast_2d(U_hat[:, -1]).T\n",
    "    for _ in range(N):\n",
    "        u_n = U_pred[:, -1]\n",
    "        phi = np.tanh(np.atleast_2d(W_in @ u_n).T + b_in)\n",
    "        u_np1 = W_LR @ phi\n",
    "        U_pred = np.concatenate((U_pred, u_np1), axis=1)\n",
    "    #return U, U_hat\n",
    "    return U, U_hat, U_pred"
   ]
  },
  {
   "cell_type": "code",
   "execution_count": 4,
   "id": "ba5ef74b",
   "metadata": {
    "pycharm": {
     "name": "#%%\n"
    }
   },
   "outputs": [],
   "source": [
    "#Lorenz system\n",
    "def get_lorenz_vals(dt):\n",
    "    def lorenz1(xyz, t, s=10, r=28, b=8/3):\n",
    "        x,y,z = xyz\n",
    "        dx = s*(y - x)\n",
    "        dy = r*x - y - x*z\n",
    "        dz = x*y - b*z\n",
    "        return np.array([dx,dy,dz])\n",
    "    \n",
    "    from scipy.integrate import odeint\n",
    "    sol = odeint(lorenz1, [0,2,0], dt)\n",
    "    xs,ys,zs = sol.T\n",
    "\n",
    "    return sol.T"
   ]
  },
  {
   "cell_type": "code",
   "execution_count": 5,
   "id": "00983fc4",
   "metadata": {
    "pycharm": {
     "name": "#%%\n"
    }
   },
   "outputs": [
    {
     "data": {
      "text/plain": [
       "0.00017959937024287378"
      ]
     },
     "execution_count": 5,
     "metadata": {},
     "output_type": "execute_result"
    }
   ],
   "source": [
    "#function to find 2-norm\n",
    "def find_norm2(system:callable, D_r0, N_0=N, w_0=w, b_0=b):\n",
    "    U, U_hat, U_pred = find_approximation(system, t0, t1, N=N_0, D_r=D_r0, w = w_0, b = b_0)\n",
    "    norm2 = 0\n",
    "    for n in range(N_0):\n",
    "        norm2 += (np.linalg.norm(U[:,n]-U_hat[:,n]) / np.linalg.norm(U[:,n]))**2\n",
    "    return np.sqrt(norm2) / N_0\n",
    "find_norm2(get_lorenz_vals,200)"
   ]
  },
  {
   "cell_type": "code",
   "execution_count": 6,
   "id": "39f6ea7b",
   "metadata": {
    "pycharm": {
     "name": "#%%\n"
    }
   },
   "outputs": [
    {
     "data": {
      "text/plain": [
       "0.04134101598605709"
      ]
     },
     "execution_count": 6,
     "metadata": {},
     "output_type": "execute_result"
    }
   ],
   "source": [
    "#function to find infinite norm\n",
    "def find_norminf(system:callable, D_r0, N_0=N, w_0=w, b_0=b):\n",
    "    U, U_hat, U_pred = find_approximation(system, t0, t1, N=N_0, D_r=D_r0, w = w_0, b = b_0)\n",
    "    norm = []\n",
    "    for n in range(N_0):\n",
    "        norm.append(np.linalg.norm(U[:,n]-U_hat[:,n]) / np.linalg.norm(U[:,n]))\n",
    "    return max(norm)\n",
    "find_norminf(get_lorenz_vals,100)"
   ]
  },
  {
   "cell_type": "code",
   "execution_count": 7,
   "id": "82a20123",
   "metadata": {
    "pycharm": {
     "name": "#%%\n"
    }
   },
   "outputs": [
    {
     "data": {
      "text/plain": [
       "Text(0.5, 1.0, '2-norm / D_r')"
      ]
     },
     "execution_count": 7,
     "metadata": {},
     "output_type": "execute_result"
    },
    {
     "data": {
      "image/png": "[encoded data removed]",
      "text/plain": [
       "<Figure size 432x288 with 1 Axes>"
      ]
     },
     "metadata": {
      "needs_background": "light"
     },
     "output_type": "display_data"
    }
   ],
   "source": [
    "#plot for 2-norm\n",
    "D_r = np.arange(100, 5000, 100)\n",
    "norm2 = []\n",
    "for d in D_r:\n",
    "    norm2.append(find_norm2(get_lorenz_vals, d))\n",
    "    \n",
    "i2 = np.argmin(norm2)\n",
    "\n",
    "plt.plot(D_r, norm2)\n",
    "#plt.plot(D_r, np.log(norm2))\n",
    "plt.plot(D_r[i2], norm2[i2], marker='o', label='minimum')\n",
    "plt.legend()\n",
    "plt.xlabel(\"Change in D_r\")\n",
    "plt.ylabel(\"2-norm\")\n",
    "plt.title(\"2-norm / D_r\")"
   ]
  },
  {
   "cell_type": "code",
   "execution_count": 8,
   "id": "7b4ae657",
   "metadata": {
    "pycharm": {
     "name": "#%%\n"
    }
   },
   "outputs": [
    {
     "data": {
      "text/plain": [
       "Text(0.5, 1.0, 'infinite norm / D_r')"
      ]
     },
     "execution_count": 8,
     "metadata": {},
     "output_type": "execute_result"
    },
    {
     "data": {
      "image/png": "[encoded data removed]",
      "text/plain": [
       "<Figure size 432x288 with 1 Axes>"
      ]
     },
     "metadata": {
      "needs_background": "light"
     },
     "output_type": "display_data"
    }
   ],
   "source": [
    "#plot for inf norm\n",
    "D_r = np.arange(100, 5000, 100)\n",
    "\n",
    "norminf = []\n",
    "for d in D_r:\n",
    "    norminf.append(find_norminf(get_lorenz_vals, d))\n",
    "\n",
    "i3 = np.argmin(norminf)\n",
    "\n",
    "plt.plot(D_r, norminf)\n",
    "plt.plot(D_r[i3], norminf[i3], marker='o', label='minimum')\n",
    "plt.legend()\n",
    "plt.xlabel(\"Change in D_r\")\n",
    "plt.ylabel(\"infinite norm\")\n",
    "plt.title(\"infinite norm / D_r\")"
   ]
  },
  {
   "cell_type": "code",
   "execution_count": 9,
   "id": "d45415a2",
   "metadata": {
    "pycharm": {
     "name": "#%%\n"
    }
   },
   "outputs": [
    {
     "data": {
      "text/plain": [
       "Text(0.5, 1.0, '2-norm / D_r with 10 random W&B averaged')"
      ]
     },
     "execution_count": 9,
     "metadata": {},
     "output_type": "execute_result"
    },
    {
     "data": {
      "image/png": "[encoded data removed]",
      "text/plain": [
       "<Figure size 432x288 with 1 Axes>"
      ]
     },
     "metadata": {
      "needs_background": "light"
     },
     "output_type": "display_data"
    }
   ],
   "source": [
    "#plot for 2-norm for 10 different W/B realisations\n",
    "D_r = np.arange(100, 2000, 100)\n",
    "\n",
    "it = 10\n",
    "mean2 = np.zeros(len(D_r))\n",
    "for w in range(it):\n",
    "    norm2 = []\n",
    "    for d in D_r:\n",
    "        norm2.append(find_norm2(get_lorenz_vals, d))\n",
    "    mean2 = mean2 + np.array(norm2)\n",
    "mean2 = mean2/it\n",
    "\n",
    "i4 = np.argmin(mean2)\n",
    "\n",
    "plt.plot(D_r, mean2)\n",
    "plt.plot(D_r[i4], mean2[i4], marker='o', label='minimum')\n",
    "plt.legend()\n",
    "plt.xlabel(\"Change in D_r\")\n",
    "plt.ylabel(\"2-norm\")\n",
    "plt.title(\"2-norm / D_r with 10 random W&B averaged\")"
   ]
  },
  {
   "cell_type": "code",
   "execution_count": 10,
   "id": "4f0c7aa0",
   "metadata": {
    "pycharm": {
     "name": "#%%\n"
    }
   },
   "outputs": [
    {
     "data": {
      "text/plain": [
       "Text(0.5, 1.0, 'max(ϵ) / D_r with 10 random W&B')"
      ]
     },
     "execution_count": 10,
     "metadata": {},
     "output_type": "execute_result"
    },
    {
     "data": {
      "image/png": "[encoded data removed]",
      "text/plain": [
       "<Figure size 432x288 with 1 Axes>"
      ]
     },
     "metadata": {
      "needs_background": "light"
     },
     "output_type": "display_data"
    }
   ],
   "source": [
    "#plot for infinite norm for 10 different W/B realisations\n",
    "D_r = np.arange(100, 2000, 100)\n",
    "\n",
    "it = 10\n",
    "meaninf = np.zeros(len(D_r))\n",
    "for w in range(it):\n",
    "    norminf = []\n",
    "    for d in D_r:\n",
    "        norminf.append(find_norminf(get_lorenz_vals, d))\n",
    "    meaninf = meaninf + np.array(norminf)\n",
    "meaninf = meaninf/it\n",
    "\n",
    "i5 = np.argmin(meaninf)\n",
    "\n",
    "plt.plot(D_r, meaninf)\n",
    "plt.plot(D_r[i5], meaninf[i5], marker='o', label='minimum')\n",
    "plt.legend()\n",
    "plt.xlabel(\"Change in D_r\")\n",
    "plt.ylabel(\"infinite norm\")\n",
    "plt.title(\"max(ϵ) / D_r with 10 random W&B\")"
   ]
  },
  {
   "cell_type": "code",
   "execution_count": null,
   "id": "ee7a90ae",
   "metadata": {
    "pycharm": {
     "name": "#%%\n"
    }
   },
   "outputs": [],
   "source": []
  }
 ],
 "metadata": {
  "kernelspec": {
   "display_name": "Python 3 (ipykernel)",
   "language": "python",
   "name": "python3"
  },
  "language_info": {
   "codemirror_mode": {
    "name": "ipython",
    "version": 3
   },
   "file_extension": ".py",
   "mimetype": "text/x-python",
   "name": "python",
   "nbconvert_exporter": "python",
   "pygments_lexer": "ipython3",
   "version": "3.9.7"
  }
 },
 "nbformat": 4,
 "nbformat_minor": 5
}