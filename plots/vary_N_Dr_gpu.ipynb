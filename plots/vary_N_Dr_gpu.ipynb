{
 "cells": [
  {
   "cell_type": "code",
   "execution_count": 1,
   "id": "96de2023",
   "metadata": {
    "pycharm": {
     "name": "#%%\n"
    }
   },
   "outputs": [],
   "source": [
    "import cupy as cp\n",
    "import numpy as np\n",
    "import matplotlib.pyplot as plt\n",
    "from scipy.integrate import ode"
   ]
  },
  {
   "cell_type": "code",
   "execution_count": 2,
   "id": "25a7708e",
   "metadata": {
    "pycharm": {
     "name": "#%%\n"
    }
   },
   "outputs": [
    {
     "name": "stdout",
     "output_type": "stream",
     "text": [
      "Found 1 CUDA devices\n",
      "id 0    b'NVIDIA GeForce RTX 3070 Ti Laptop GPU'                              [SUPPORTED]\n",
      "                      Compute Capability: 8.6\n",
      "                           PCI Device ID: 0\n",
      "                              PCI Bus ID: 1\n",
      "                                    UUID: GPU-6170706a-91b1-ef93-d02c-85496e9a4ad4\n",
      "                                Watchdog: Enabled\n",
      "                            Compute Mode: WDDM\n",
      "             FP32/FP64 Performance Ratio: 32\n",
      "Summary:\n",
      "\t1/1 devices are supported\n"
     ]
    },
    {
     "data": {
      "text/plain": [
       "True"
      ]
     },
     "execution_count": 2,
     "metadata": {},
     "output_type": "execute_result"
    }
   ],
   "source": [
    "from numba import cuda\n",
    "cuda.detect()"
   ]
  },
  {
   "cell_type": "code",
   "execution_count": 3,
   "id": "425e2c93",
   "metadata": {
    "pycharm": {
     "name": "#%%\n"
    }
   },
   "outputs": [],
   "source": [
    "tol = 5e-2\n",
    "\n",
    "w = 0.2\n",
    "b = 4\n",
    "beta = 4e-5\n",
    "\n",
    "def lorenz_63(t, coord):\n",
    "    x, y, z = coord\n",
    "    return [10 * (y - x),\n",
    "            x * (28 - z) - y,\n",
    "            x * y - (8 / 3) * z]\n",
    "\n",
    "y0 = np.random.uniform(-10, 10, 3)\n",
    "\n",
    "def one_for_all_gpu(N, D_r):\n",
    "    # evaluating lorenz_63...\n",
    "    dt = T / N\n",
    "\n",
    "    r = ode(lorenz_63).set_integrator('vode', method='bdf')\n",
    "    r.set_initial_value(y0, 0)\n",
    "    \n",
    "    offset = round(N / 10)\n",
    "\n",
    "    data = [y0, ] + [r.integrate(r.t+dt) for _ in range(round(1.5*N)+offset)]\n",
    "    data_cpu = np.array(data).T[:, offset:]\n",
    "    data_gpu = cp.asarray(data_cpu)\n",
    "\n",
    "    # training...\n",
    "    W_in = w * (2*cp.random.rand(D_r, 3) - 1)\n",
    "    b_in = b * (2*cp.random.rand(D_r, 1) - 1)\n",
    "    Phi = cp.tanh(W_in @ data_gpu[:, :N-1] + b_in)\n",
    "    W_lr = data_gpu[:, 1:N] @ Phi.T @ cp.linalg.inv(Phi @ Phi.T + beta * cp.identity(D_r))\n",
    "\n",
    "    # finding forecast time...\n",
    "    # W_lr = W_lr.get()\n",
    "    # W_in = W_in.get()\n",
    "    # b_in = b_in.get()\n",
    "    b_in = b_in.reshape((D_r, ))\n",
    "    u = data_gpu[:, 0]\n",
    "    steps = 0\n",
    "    while True:\n",
    "        u = W_lr @ cp.tanh(W_in @ u + b_in)\n",
    "\n",
    "        if steps+1 < data_gpu.shape[1]:\n",
    "            u_e = data_gpu[:, steps+1]\n",
    "        else:\n",
    "            return steps * dt\n",
    "\n",
    "        error = cp.dot(u_e - u, u_e - u) / cp.dot(u_e, u_e)\n",
    "        if error > tol:\n",
    "            return steps * dt\n",
    "\n",
    "        steps += 1\n",
    "        \n"
   ]
  },
  {
   "cell_type": "code",
   "execution_count": 6,
   "id": "5475ba24",
   "metadata": {
    "pycharm": {
     "name": "#%%\n"
    }
   },
   "outputs": [
    {
     "name": "stdout",
     "output_type": "stream",
     "text": [
      "15.542476892471313(25/ 25) \n"
     ]
    }
   ],
   "source": [
    "from time import time\n",
    "\n",
    "\n",
    "T = 10\n",
    "\n",
    "N_size = 5\n",
    "Dr_size = 5\n",
    "\n",
    "N_val = [(2**(n+1))*100 for n in range(N_size)]\n",
    "Dr_val = [(2**(n+1))*100 for n in range(Dr_size)]\n",
    "\n",
    "N_range = N_val[-1]\n",
    "Dr_range = Dr_val[-1]\n",
    "\n",
    "# computing\n",
    "start = time()\n",
    "filename = 'tau_2.npy'\n",
    "Tau = None\n",
    "for _ in range(1):\n",
    "    tau = np.empty((N_size, Dr_size, 1))\n",
    "    for i, N in enumerate(N_val):\n",
    "        for j, D_r in enumerate(Dr_val):\n",
    "            print(f'--{_+1}th Computing...'\n",
    "                  f'({i*Dr_size + j + 1}/ {N_size * Dr_size}) ',\n",
    "                  end='\\r', flush=True)\n",
    "            tau[i, j] = one_for_all_gpu(N, D_r)\n",
    "    if Tau is None:\n",
    "        Tau = tau\n",
    "    else:\n",
    "        Tau = np.concatenate((Tau, tau), 2)\n",
    "\n",
    "    with open(filename, 'wb') as f:\n",
    "        np.save(f, Tau)\n",
    "\n",
    "end = time()\n",
    "print(end-start)\n"
   ]
  },
  {
   "cell_type": "code",
   "execution_count": 7,
   "id": "747d72d2",
   "metadata": {
    "pycharm": {
     "name": "#%%\n"
    }
   },
   "outputs": [
    {
     "data": {
      "image/png": "[encoded data removed]",
      "text/plain": [
       "<Figure size 640x480 with 4 Axes>"
      ]
     },
     "metadata": {},
     "output_type": "display_data"
    }
   ],
   "source": [
    "with open('tau_2.npy', 'rb') as f:\n",
    "    Tau = np.load(f)\n",
    "    \n",
    "N_size = 32\n",
    "N_range = 1000\n",
    "Dr_size = 32\n",
    "Dr_range = 5000\n",
    "    \n",
    "M = np.apply_along_axis(np.mean, 2, Tau)\n",
    "V = np.apply_along_axis(np.var, 2, Tau)\n",
    "\n",
    "fig, ax = plt.subplots(2, 1)\n",
    "\n",
    "im = ax[0].imshow(M, origin='lower', extent=[0, Dr_range, 0, N_range], aspect=Dr_range/N_range)\n",
    "ax[0].set_xlabel('D_r')  \n",
    "ax[0].set_ylabel('N')\n",
    "plt.colorbar(im, ax=ax[0], fraction=0.046, pad=0.04)\n",
    "\n",
    "im = ax[1].imshow(V, origin='lower', extent=[0, Dr_range, 0, N_range], aspect=Dr_range/N_range)\n",
    "ax[1].set_xlabel('D_r')\n",
    "ax[1].set_ylabel('N')\n",
    "plt.colorbar(im, ax=ax[1], fraction=0.046, pad=0.04)\n",
    "\n",
    "plt.subplots_adjust(bottom=1e-8, right=0.8, top=1-1e-8)\n",
    "plt.show()"
   ]
  },
  {
   "cell_type": "markdown",
   "id": "02cf8e77",
   "metadata": {
    "pycharm": {
     "name": "#%% md\n"
    }
   },
   "source": [
    "## "
   ]
  }
 ],
 "metadata": {
  "kernelspec": {
   "display_name": "Python 3 (ipykernel)",
   "language": "python",
   "name": "python3"
  },
  "language_info": {
   "codemirror_mode": {
    "name": "ipython",
    "version": 3
   },
   "file_extension": ".py",
   "mimetype": "text/x-python",
   "name": "python",
   "nbconvert_exporter": "python",
   "pygments_lexer": "ipython3",
   "version": "3.10.9"
  }
 },
 "nbformat": 4,
 "nbformat_minor": 5
}